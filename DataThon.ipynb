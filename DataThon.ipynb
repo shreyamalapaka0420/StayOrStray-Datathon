{
 "cells": [
  {
   "cell_type": "code",
   "execution_count": 6,
   "metadata": {},
   "outputs": [],
   "source": [
    "import pandas as pd"
   ]
  },
  {
   "cell_type": "code",
   "execution_count": 7,
   "metadata": {},
   "outputs": [],
   "source": [
    "#Import train data\n",
    "train_df = pd.read_csv('/Users/nayankarumuri/Desktop/DS Hub/train.csv')"
   ]
  },
  {
   "cell_type": "code",
   "execution_count": 8,
   "metadata": {},
   "outputs": [
    {
     "data": {
      "text/plain": [
       "(84377, 141)"
      ]
     },
     "execution_count": 8,
     "metadata": {},
     "output_type": "execute_result"
    }
   ],
   "source": [
    "train_df.shape"
   ]
  },
  {
   "cell_type": "code",
   "execution_count": 9,
   "metadata": {},
   "outputs": [
    {
     "name": "stdout",
     "output_type": "stream",
     "text": [
      "<class 'pandas.core.frame.DataFrame'>\n",
      "RangeIndex: 84377 entries, 0 to 84376\n",
      "Data columns (total 141 columns):\n",
      " #    Column  Dtype  \n",
      "---   ------  -----  \n",
      " 0    ID      float64\n",
      " 1    X1      float64\n",
      " 2    X2      float64\n",
      " 3    X3      float64\n",
      " 4    X4      float64\n",
      " 5    X5      float64\n",
      " 6    X6      float64\n",
      " 7    X7      float64\n",
      " 8    X8      float64\n",
      " 9    X9      float64\n",
      " 10   X10     float64\n",
      " 11   X11     float64\n",
      " 12   X12     float64\n",
      " 13   X13     float64\n",
      " 14   X14     float64\n",
      " 15   X15     float64\n",
      " 16   X16     float64\n",
      " 17   X17     float64\n",
      " 18   X18     float64\n",
      " 19   X19     float64\n",
      " 20   X20     float64\n",
      " 21   X21     float64\n",
      " 22   X22     float64\n",
      " 23   X23     float64\n",
      " 24   X24     float64\n",
      " 25   X25     float64\n",
      " 26   X26     float64\n",
      " 27   X27     float64\n",
      " 28   X28     float64\n",
      " 29   X29     float64\n",
      " 30   X30     float64\n",
      " 31   X31     float64\n",
      " 32   X32     float64\n",
      " 33   X33     float64\n",
      " 34   X34     float64\n",
      " 35   X35     float64\n",
      " 36   X36     float64\n",
      " 37   X37     float64\n",
      " 38   X38     float64\n",
      " 39   X39     float64\n",
      " 40   X40     float64\n",
      " 41   X41     float64\n",
      " 42   X42     float64\n",
      " 43   X43     float64\n",
      " 44   X44     float64\n",
      " 45   X45     float64\n",
      " 46   X46     float64\n",
      " 47   X47     float64\n",
      " 48   X48     float64\n",
      " 49   X49     float64\n",
      " 50   X50     float64\n",
      " 51   X51     float64\n",
      " 52   X52     float64\n",
      " 53   X53     float64\n",
      " 54   X54     float64\n",
      " 55   X55     float64\n",
      " 56   X56     float64\n",
      " 57   X57     float64\n",
      " 58   X58     float64\n",
      " 59   X59     float64\n",
      " 60   X60     float64\n",
      " 61   X61     float64\n",
      " 62   X62     float64\n",
      " 63   X63     float64\n",
      " 64   X64     float64\n",
      " 65   X65     float64\n",
      " 66   X66     float64\n",
      " 67   X67     float64\n",
      " 68   X68     float64\n",
      " 69   X69     float64\n",
      " 70   X70     float64\n",
      " 71   X71     float64\n",
      " 72   X72     float64\n",
      " 73   X73     float64\n",
      " 74   X74     float64\n",
      " 75   X75     float64\n",
      " 76   X76     float64\n",
      " 77   X77     float64\n",
      " 78   X78     float64\n",
      " 79   X79     float64\n",
      " 80   X80     float64\n",
      " 81   X81     float64\n",
      " 82   X82     float64\n",
      " 83   X83     float64\n",
      " 84   X84     float64\n",
      " 85   X85     float64\n",
      " 86   X86     float64\n",
      " 87   X87     float64\n",
      " 88   X88     float64\n",
      " 89   X89     float64\n",
      " 90   X90     float64\n",
      " 91   X91     float64\n",
      " 92   X92     float64\n",
      " 93   X93     float64\n",
      " 94   X94     float64\n",
      " 95   X95     float64\n",
      " 96   X96     float64\n",
      " 97   X97     float64\n",
      " 98   X98     float64\n",
      " 99   X99     float64\n",
      " 100  X100    float64\n",
      " 101  X101    float64\n",
      " 102  X102    float64\n",
      " 103  X103    float64\n",
      " 104  X104    float64\n",
      " 105  X105    float64\n",
      " 106  X106    float64\n",
      " 107  X107    float64\n",
      " 108  X108    float64\n",
      " 109  X109    float64\n",
      " 110  X110    float64\n",
      " 111  X111    float64\n",
      " 112  X112    float64\n",
      " 113  X113    float64\n",
      " 114  X114    float64\n",
      " 115  X115    float64\n",
      " 116  X116    float64\n",
      " 117  X117    float64\n",
      " 118  X118    float64\n",
      " 119  X119    float64\n",
      " 120  X120    float64\n",
      " 121  X121    float64\n",
      " 122  X122    float64\n",
      " 123  X123    float64\n",
      " 124  X124    float64\n",
      " 125  X125    float64\n",
      " 126  X126    float64\n",
      " 127  X127    float64\n",
      " 128  X128    float64\n",
      " 129  X129    float64\n",
      " 130  X130    float64\n",
      " 131  X131    float64\n",
      " 132  X132    float64\n",
      " 133  X133    float64\n",
      " 134  X134    float64\n",
      " 135  X135    float64\n",
      " 136  X136    float64\n",
      " 137  X137    float64\n",
      " 138  X138    float64\n",
      " 139  X139    float64\n",
      " 140  label   int64  \n",
      "dtypes: float64(140), int64(1)\n",
      "memory usage: 90.8 MB\n"
     ]
    }
   ],
   "source": [
    "train_df.info(verbose = True)"
   ]
  },
  {
   "cell_type": "code",
   "execution_count": 10,
   "metadata": {},
   "outputs": [
    {
     "name": "stdout",
     "output_type": "stream",
     "text": [
      "                  ID            X1       X2            X3       X4  \\\n",
      "count   83912.000000  83959.000000  25179.0  83946.000000  25131.0   \n",
      "mean   100386.093098      1.585512      0.0     11.740988      0.0   \n",
      "std     57993.333045      0.535283      0.0     34.643444      0.0   \n",
      "min         5.000000      1.000000      0.0      1.000000      0.0   \n",
      "25%     50010.250000      1.000000      0.0      1.000000      0.0   \n",
      "50%    100614.000000      2.000000      0.0      2.000000      0.0   \n",
      "75%    150620.250000      2.000000      0.0      6.000000      0.0   \n",
      "max    200906.000000      7.000000      0.0   3605.000000      0.0   \n",
      "\n",
      "                 X5       X6       X7            X8            X9  ...  \\\n",
      "count  83947.000000  25137.0  25272.0  83967.000000  84008.000000  ...   \n",
      "mean       1.906763      0.0      0.0      9.415139      9.026486  ...   \n",
      "std        1.036347      0.0      0.0     17.288043     15.491942  ...   \n",
      "min        1.000000      0.0      0.0      1.000000      1.000000  ...   \n",
      "25%        1.000000      0.0      0.0      3.000000      3.000000  ...   \n",
      "50%        2.000000      0.0      0.0      6.000000      6.000000  ...   \n",
      "75%        2.000000      0.0      0.0      9.000000      9.000000  ...   \n",
      "max       13.000000      0.0      0.0    487.000000    449.000000  ...   \n",
      "\n",
      "          X131     X132     X133          X134          X135          X136  \\\n",
      "count  25084.0  25185.0  25367.0  83936.000000  83985.000000  83967.000000   \n",
      "mean       0.0      0.0      0.0      2.381040      2.567792      2.254326   \n",
      "std        0.0      0.0      0.0      2.050817      2.086498      1.989084   \n",
      "min        0.0      0.0      0.0      1.000000      1.000000      1.000000   \n",
      "25%        0.0      0.0      0.0      1.000000      1.000000      1.000000   \n",
      "50%        0.0      0.0      0.0      2.000000      2.000000      2.000000   \n",
      "75%        0.0      0.0      0.0      3.000000      3.000000      2.000000   \n",
      "max        0.0      0.0      0.0     83.000000     87.000000     82.000000   \n",
      "\n",
      "               X137          X138     X139         label  \n",
      "count  83929.000000  83966.000000  24981.0  84377.000000  \n",
      "mean       2.334092      5.735965      0.0      0.792728  \n",
      "std        2.029105      2.988488      0.0      0.405355  \n",
      "min        1.000000      1.000000      0.0      0.000000  \n",
      "25%        1.000000      3.000000      0.0      1.000000  \n",
      "50%        2.000000      6.000000      0.0      1.000000  \n",
      "75%        2.000000      8.000000      0.0      1.000000  \n",
      "max       73.000000     30.000000      0.0      1.000000  \n",
      "\n",
      "[8 rows x 141 columns]\n"
     ]
    }
   ],
   "source": [
    "print(train_df.describe())"
   ]
  },
  {
   "cell_type": "code",
   "execution_count": 11,
   "metadata": {},
   "outputs": [
    {
     "name": "stdout",
     "output_type": "stream",
     "text": [
      "X2      59198\n",
      "X4      59246\n",
      "X6      59240\n",
      "X7      59105\n",
      "X18     59137\n",
      "X19     59284\n",
      "X20     59180\n",
      "X21     59050\n",
      "X22     59096\n",
      "X23     59284\n",
      "X24     59147\n",
      "X38     59206\n",
      "X39     58941\n",
      "X40     59262\n",
      "X46     59166\n",
      "X51     59329\n",
      "X53     59278\n",
      "X54     59066\n",
      "X55     59278\n",
      "X58     59300\n",
      "X59     59216\n",
      "X60     59221\n",
      "X61     59279\n",
      "X62     58959\n",
      "X63     59237\n",
      "X66     59116\n",
      "X67     59193\n",
      "X68     58942\n",
      "X70     59322\n",
      "X71     59017\n",
      "X73     59317\n",
      "X75     59122\n",
      "X76     58992\n",
      "X88     59152\n",
      "X89     59181\n",
      "X91     59318\n",
      "X93     59142\n",
      "X94     59300\n",
      "X106    59236\n",
      "X119    59170\n",
      "X120    59040\n",
      "X123    59130\n",
      "X124    59333\n",
      "X129    59175\n",
      "X130    58985\n",
      "X131    59293\n",
      "X132    59192\n",
      "X133    59010\n",
      "X139    59396\n",
      "dtype: int64\n",
      "(84377, 49)\n"
     ]
    }
   ],
   "source": [
    "#Checking columns with missing values over a certain threshold\n",
    "missing_values = train_df.isnull().sum()\n",
    "columns_with_missing_values = missing_values[missing_values > 5000].index\n",
    "print(train_df[columns_with_missing_values].isnull().sum())\n",
    "print(train_df[columns_with_missing_values].shape)"
   ]
  },
  {
   "cell_type": "code",
   "execution_count": 12,
   "metadata": {},
   "outputs": [],
   "source": [
    "# Train data: columns with missing values over a certain threshold removed\n",
    "new_train_df = train_df.drop(columns=columns_with_missing_values)\n"
   ]
  },
  {
   "cell_type": "code",
   "execution_count": 13,
   "metadata": {},
   "outputs": [
    {
     "data": {
      "text/plain": [
       "(84377, 92)"
      ]
     },
     "execution_count": 13,
     "metadata": {},
     "output_type": "execute_result"
    }
   ],
   "source": [
    "# 49 features were removed which had more than 70% data missing \n",
    "new_train_df.shape"
   ]
  },
  {
   "cell_type": "code",
   "execution_count": 14,
   "metadata": {},
   "outputs": [
    {
     "name": "stdout",
     "output_type": "stream",
     "text": [
      "1    66888\n",
      "0    17489\n",
      "Name: label, dtype: int64\n"
     ]
    }
   ],
   "source": [
    "print(new_train_df['label'].value_counts())"
   ]
  },
  {
   "cell_type": "markdown",
   "metadata": {},
   "source": [
    "Class Imbalance with label 1 being the majority class. This will be handled during the model training phase"
   ]
  },
  {
   "cell_type": "code",
   "execution_count": 15,
   "metadata": {},
   "outputs": [],
   "source": [
    "#dropping rows with any missing values from new_train_df and assign that to a new dataframe\n",
    "new_train_df_clean = new_train_df.dropna()\n"
   ]
  },
  {
   "cell_type": "code",
   "execution_count": 16,
   "metadata": {},
   "outputs": [
    {
     "data": {
      "text/plain": [
       "(53610, 92)"
      ]
     },
     "execution_count": 16,
     "metadata": {},
     "output_type": "execute_result"
    }
   ],
   "source": [
    "new_train_df_clean.shape"
   ]
  },
  {
   "cell_type": "code",
   "execution_count": 17,
   "metadata": {},
   "outputs": [],
   "source": [
    "# Separate features and label\n",
    "X = new_train_df_clean.iloc[:, :-1]\n",
    "y = new_train_df_clean.iloc[:, -1]"
   ]
  },
  {
   "cell_type": "markdown",
   "metadata": {},
   "source": [
    "## Data prep"
   ]
  },
  {
   "cell_type": "code",
   "execution_count": 18,
   "metadata": {},
   "outputs": [],
   "source": [
    "\n",
    "from sklearn.model_selection import train_test_split"
   ]
  },
  {
   "cell_type": "code",
   "execution_count": null,
   "metadata": {},
   "outputs": [],
   "source": []
  },
  {
   "cell_type": "code",
   "execution_count": 19,
   "metadata": {},
   "outputs": [],
   "source": [
    "# Train-validation split (80-20)\n",
    "X_train, X_val, y_train, y_val = train_test_split(X, y, test_size=0.2, random_state=42)\n"
   ]
  },
  {
   "cell_type": "code",
   "execution_count": 20,
   "metadata": {},
   "outputs": [
    {
     "data": {
      "text/html": [
       "<div>\n",
       "<style scoped>\n",
       "    .dataframe tbody tr th:only-of-type {\n",
       "        vertical-align: middle;\n",
       "    }\n",
       "\n",
       "    .dataframe tbody tr th {\n",
       "        vertical-align: top;\n",
       "    }\n",
       "\n",
       "    .dataframe thead th {\n",
       "        text-align: right;\n",
       "    }\n",
       "</style>\n",
       "<table border=\"1\" class=\"dataframe\">\n",
       "  <thead>\n",
       "    <tr style=\"text-align: right;\">\n",
       "      <th></th>\n",
       "      <th>ID</th>\n",
       "      <th>X1</th>\n",
       "      <th>X3</th>\n",
       "      <th>X5</th>\n",
       "      <th>X8</th>\n",
       "      <th>X9</th>\n",
       "      <th>X10</th>\n",
       "      <th>X11</th>\n",
       "      <th>X12</th>\n",
       "      <th>X13</th>\n",
       "      <th>...</th>\n",
       "      <th>X122</th>\n",
       "      <th>X125</th>\n",
       "      <th>X126</th>\n",
       "      <th>X127</th>\n",
       "      <th>X128</th>\n",
       "      <th>X134</th>\n",
       "      <th>X135</th>\n",
       "      <th>X136</th>\n",
       "      <th>X137</th>\n",
       "      <th>X138</th>\n",
       "    </tr>\n",
       "  </thead>\n",
       "  <tbody>\n",
       "    <tr>\n",
       "      <th>78315</th>\n",
       "      <td>128454.0</td>\n",
       "      <td>1.029851</td>\n",
       "      <td>65.0</td>\n",
       "      <td>2.0</td>\n",
       "      <td>3.0</td>\n",
       "      <td>3.0</td>\n",
       "      <td>1.0</td>\n",
       "      <td>8.0</td>\n",
       "      <td>18.0</td>\n",
       "      <td>16.0</td>\n",
       "      <td>...</td>\n",
       "      <td>3.0</td>\n",
       "      <td>1.0</td>\n",
       "      <td>1.0</td>\n",
       "      <td>14.0</td>\n",
       "      <td>26.0</td>\n",
       "      <td>2.0</td>\n",
       "      <td>1.0</td>\n",
       "      <td>3.0</td>\n",
       "      <td>1.0</td>\n",
       "      <td>8.0</td>\n",
       "    </tr>\n",
       "    <tr>\n",
       "      <th>76704</th>\n",
       "      <td>175505.0</td>\n",
       "      <td>1.111111</td>\n",
       "      <td>2.0</td>\n",
       "      <td>2.0</td>\n",
       "      <td>1.0</td>\n",
       "      <td>7.0</td>\n",
       "      <td>9.0</td>\n",
       "      <td>7.0</td>\n",
       "      <td>5.0</td>\n",
       "      <td>16.0</td>\n",
       "      <td>...</td>\n",
       "      <td>4.0</td>\n",
       "      <td>1.0</td>\n",
       "      <td>1.0</td>\n",
       "      <td>9.0</td>\n",
       "      <td>7.0</td>\n",
       "      <td>3.0</td>\n",
       "      <td>1.0</td>\n",
       "      <td>1.0</td>\n",
       "      <td>2.0</td>\n",
       "      <td>9.0</td>\n",
       "    </tr>\n",
       "    <tr>\n",
       "      <th>65414</th>\n",
       "      <td>37040.0</td>\n",
       "      <td>2.000000</td>\n",
       "      <td>3.0</td>\n",
       "      <td>1.0</td>\n",
       "      <td>9.0</td>\n",
       "      <td>12.0</td>\n",
       "      <td>2.0</td>\n",
       "      <td>10.0</td>\n",
       "      <td>13.0</td>\n",
       "      <td>3.0</td>\n",
       "      <td>...</td>\n",
       "      <td>1.0</td>\n",
       "      <td>1.0</td>\n",
       "      <td>1.0</td>\n",
       "      <td>13.0</td>\n",
       "      <td>1.0</td>\n",
       "      <td>1.0</td>\n",
       "      <td>2.0</td>\n",
       "      <td>2.0</td>\n",
       "      <td>2.0</td>\n",
       "      <td>5.0</td>\n",
       "    </tr>\n",
       "    <tr>\n",
       "      <th>25126</th>\n",
       "      <td>55653.0</td>\n",
       "      <td>2.000000</td>\n",
       "      <td>1.0</td>\n",
       "      <td>1.0</td>\n",
       "      <td>2.0</td>\n",
       "      <td>9.0</td>\n",
       "      <td>3.0</td>\n",
       "      <td>8.0</td>\n",
       "      <td>15.0</td>\n",
       "      <td>13.0</td>\n",
       "      <td>...</td>\n",
       "      <td>1.0</td>\n",
       "      <td>1.0</td>\n",
       "      <td>1.0</td>\n",
       "      <td>12.0</td>\n",
       "      <td>3.0</td>\n",
       "      <td>2.0</td>\n",
       "      <td>2.0</td>\n",
       "      <td>1.0</td>\n",
       "      <td>2.0</td>\n",
       "      <td>3.0</td>\n",
       "    </tr>\n",
       "    <tr>\n",
       "      <th>43353</th>\n",
       "      <td>24821.0</td>\n",
       "      <td>1.000000</td>\n",
       "      <td>2.0</td>\n",
       "      <td>1.0</td>\n",
       "      <td>9.0</td>\n",
       "      <td>6.0</td>\n",
       "      <td>6.0</td>\n",
       "      <td>2.0</td>\n",
       "      <td>19.0</td>\n",
       "      <td>5.0</td>\n",
       "      <td>...</td>\n",
       "      <td>2.0</td>\n",
       "      <td>1.0</td>\n",
       "      <td>1.0</td>\n",
       "      <td>16.0</td>\n",
       "      <td>6.0</td>\n",
       "      <td>3.0</td>\n",
       "      <td>2.0</td>\n",
       "      <td>1.0</td>\n",
       "      <td>1.0</td>\n",
       "      <td>3.0</td>\n",
       "    </tr>\n",
       "  </tbody>\n",
       "</table>\n",
       "<p>5 rows × 91 columns</p>\n",
       "</div>"
      ],
      "text/plain": [
       "             ID        X1    X3   X5   X8    X9  X10   X11   X12   X13  ...  \\\n",
       "78315  128454.0  1.029851  65.0  2.0  3.0   3.0  1.0   8.0  18.0  16.0  ...   \n",
       "76704  175505.0  1.111111   2.0  2.0  1.0   7.0  9.0   7.0   5.0  16.0  ...   \n",
       "65414   37040.0  2.000000   3.0  1.0  9.0  12.0  2.0  10.0  13.0   3.0  ...   \n",
       "25126   55653.0  2.000000   1.0  1.0  2.0   9.0  3.0   8.0  15.0  13.0  ...   \n",
       "43353   24821.0  1.000000   2.0  1.0  9.0   6.0  6.0   2.0  19.0   5.0  ...   \n",
       "\n",
       "       X122  X125  X126  X127  X128  X134  X135  X136  X137  X138  \n",
       "78315   3.0   1.0   1.0  14.0  26.0   2.0   1.0   3.0   1.0   8.0  \n",
       "76704   4.0   1.0   1.0   9.0   7.0   3.0   1.0   1.0   2.0   9.0  \n",
       "65414   1.0   1.0   1.0  13.0   1.0   1.0   2.0   2.0   2.0   5.0  \n",
       "25126   1.0   1.0   1.0  12.0   3.0   2.0   2.0   1.0   2.0   3.0  \n",
       "43353   2.0   1.0   1.0  16.0   6.0   3.0   2.0   1.0   1.0   3.0  \n",
       "\n",
       "[5 rows x 91 columns]"
      ]
     },
     "execution_count": 20,
     "metadata": {},
     "output_type": "execute_result"
    }
   ],
   "source": [
    "X_train.head()"
   ]
  },
  {
   "cell_type": "code",
   "execution_count": 21,
   "metadata": {},
   "outputs": [
    {
     "data": {
      "text/html": [
       "<div>\n",
       "<style scoped>\n",
       "    .dataframe tbody tr th:only-of-type {\n",
       "        vertical-align: middle;\n",
       "    }\n",
       "\n",
       "    .dataframe tbody tr th {\n",
       "        vertical-align: top;\n",
       "    }\n",
       "\n",
       "    .dataframe thead th {\n",
       "        text-align: right;\n",
       "    }\n",
       "</style>\n",
       "<table border=\"1\" class=\"dataframe\">\n",
       "  <thead>\n",
       "    <tr style=\"text-align: right;\">\n",
       "      <th></th>\n",
       "      <th>ID</th>\n",
       "      <th>X1</th>\n",
       "      <th>X3</th>\n",
       "      <th>X5</th>\n",
       "      <th>X8</th>\n",
       "      <th>X9</th>\n",
       "      <th>X10</th>\n",
       "      <th>X11</th>\n",
       "      <th>X12</th>\n",
       "      <th>X13</th>\n",
       "      <th>...</th>\n",
       "      <th>X122</th>\n",
       "      <th>X125</th>\n",
       "      <th>X126</th>\n",
       "      <th>X127</th>\n",
       "      <th>X128</th>\n",
       "      <th>X134</th>\n",
       "      <th>X135</th>\n",
       "      <th>X136</th>\n",
       "      <th>X137</th>\n",
       "      <th>X138</th>\n",
       "    </tr>\n",
       "  </thead>\n",
       "  <tbody>\n",
       "    <tr>\n",
       "      <th>29384</th>\n",
       "      <td>35060.0</td>\n",
       "      <td>1.050000</td>\n",
       "      <td>49.0</td>\n",
       "      <td>1.0</td>\n",
       "      <td>3.0</td>\n",
       "      <td>1.0</td>\n",
       "      <td>9.0</td>\n",
       "      <td>10.0</td>\n",
       "      <td>7.0</td>\n",
       "      <td>16.0</td>\n",
       "      <td>...</td>\n",
       "      <td>1.0</td>\n",
       "      <td>1.0</td>\n",
       "      <td>1.0</td>\n",
       "      <td>7.0</td>\n",
       "      <td>51.0</td>\n",
       "      <td>2.0</td>\n",
       "      <td>2.0</td>\n",
       "      <td>7.0</td>\n",
       "      <td>2.0</td>\n",
       "      <td>2.0</td>\n",
       "    </tr>\n",
       "    <tr>\n",
       "      <th>25219</th>\n",
       "      <td>6096.0</td>\n",
       "      <td>1.250000</td>\n",
       "      <td>11.0</td>\n",
       "      <td>4.0</td>\n",
       "      <td>10.0</td>\n",
       "      <td>2.0</td>\n",
       "      <td>9.0</td>\n",
       "      <td>1.0</td>\n",
       "      <td>41.0</td>\n",
       "      <td>55.0</td>\n",
       "      <td>...</td>\n",
       "      <td>1.0</td>\n",
       "      <td>1.0</td>\n",
       "      <td>1.0</td>\n",
       "      <td>18.0</td>\n",
       "      <td>60.0</td>\n",
       "      <td>5.0</td>\n",
       "      <td>5.0</td>\n",
       "      <td>4.0</td>\n",
       "      <td>4.0</td>\n",
       "      <td>3.0</td>\n",
       "    </tr>\n",
       "    <tr>\n",
       "      <th>45448</th>\n",
       "      <td>83991.0</td>\n",
       "      <td>2.066667</td>\n",
       "      <td>2.0</td>\n",
       "      <td>2.0</td>\n",
       "      <td>3.0</td>\n",
       "      <td>3.0</td>\n",
       "      <td>2.0</td>\n",
       "      <td>10.0</td>\n",
       "      <td>4.0</td>\n",
       "      <td>5.0</td>\n",
       "      <td>...</td>\n",
       "      <td>1.0</td>\n",
       "      <td>1.0</td>\n",
       "      <td>1.0</td>\n",
       "      <td>15.0</td>\n",
       "      <td>15.0</td>\n",
       "      <td>2.0</td>\n",
       "      <td>2.0</td>\n",
       "      <td>2.0</td>\n",
       "      <td>2.0</td>\n",
       "      <td>6.0</td>\n",
       "    </tr>\n",
       "    <tr>\n",
       "      <th>25190</th>\n",
       "      <td>164149.0</td>\n",
       "      <td>1.000000</td>\n",
       "      <td>7.0</td>\n",
       "      <td>2.0</td>\n",
       "      <td>9.0</td>\n",
       "      <td>3.0</td>\n",
       "      <td>12.0</td>\n",
       "      <td>2.0</td>\n",
       "      <td>4.0</td>\n",
       "      <td>3.0</td>\n",
       "      <td>...</td>\n",
       "      <td>1.0</td>\n",
       "      <td>1.0</td>\n",
       "      <td>1.0</td>\n",
       "      <td>5.0</td>\n",
       "      <td>3.0</td>\n",
       "      <td>1.0</td>\n",
       "      <td>2.0</td>\n",
       "      <td>1.0</td>\n",
       "      <td>2.0</td>\n",
       "      <td>2.0</td>\n",
       "    </tr>\n",
       "    <tr>\n",
       "      <th>28311</th>\n",
       "      <td>886.0</td>\n",
       "      <td>2.333333</td>\n",
       "      <td>98.0</td>\n",
       "      <td>2.0</td>\n",
       "      <td>5.0</td>\n",
       "      <td>25.0</td>\n",
       "      <td>4.0</td>\n",
       "      <td>8.0</td>\n",
       "      <td>88.0</td>\n",
       "      <td>5.0</td>\n",
       "      <td>...</td>\n",
       "      <td>57.0</td>\n",
       "      <td>1.0</td>\n",
       "      <td>1.0</td>\n",
       "      <td>15.0</td>\n",
       "      <td>165.0</td>\n",
       "      <td>8.0</td>\n",
       "      <td>8.0</td>\n",
       "      <td>11.0</td>\n",
       "      <td>6.0</td>\n",
       "      <td>10.0</td>\n",
       "    </tr>\n",
       "  </tbody>\n",
       "</table>\n",
       "<p>5 rows × 91 columns</p>\n",
       "</div>"
      ],
      "text/plain": [
       "             ID        X1    X3   X5    X8    X9   X10   X11   X12   X13  ...  \\\n",
       "29384   35060.0  1.050000  49.0  1.0   3.0   1.0   9.0  10.0   7.0  16.0  ...   \n",
       "25219    6096.0  1.250000  11.0  4.0  10.0   2.0   9.0   1.0  41.0  55.0  ...   \n",
       "45448   83991.0  2.066667   2.0  2.0   3.0   3.0   2.0  10.0   4.0   5.0  ...   \n",
       "25190  164149.0  1.000000   7.0  2.0   9.0   3.0  12.0   2.0   4.0   3.0  ...   \n",
       "28311     886.0  2.333333  98.0  2.0   5.0  25.0   4.0   8.0  88.0   5.0  ...   \n",
       "\n",
       "       X122  X125  X126  X127   X128  X134  X135  X136  X137  X138  \n",
       "29384   1.0   1.0   1.0   7.0   51.0   2.0   2.0   7.0   2.0   2.0  \n",
       "25219   1.0   1.0   1.0  18.0   60.0   5.0   5.0   4.0   4.0   3.0  \n",
       "45448   1.0   1.0   1.0  15.0   15.0   2.0   2.0   2.0   2.0   6.0  \n",
       "25190   1.0   1.0   1.0   5.0    3.0   1.0   2.0   1.0   2.0   2.0  \n",
       "28311  57.0   1.0   1.0  15.0  165.0   8.0   8.0  11.0   6.0  10.0  \n",
       "\n",
       "[5 rows x 91 columns]"
      ]
     },
     "execution_count": 21,
     "metadata": {},
     "output_type": "execute_result"
    }
   ],
   "source": [
    "X_val.head()"
   ]
  },
  {
   "cell_type": "code",
   "execution_count": 22,
   "metadata": {},
   "outputs": [],
   "source": [
    "val_indices = X_val['ID'].copy()"
   ]
  },
  {
   "cell_type": "code",
   "execution_count": 23,
   "metadata": {},
   "outputs": [],
   "source": [
    "# Dropping ID from val and train\n",
    "X_val = X_val.drop('ID', axis=1)\n",
    "X_train = X_train.drop('ID',axis=1)"
   ]
  },
  {
   "cell_type": "code",
   "execution_count": 24,
   "metadata": {},
   "outputs": [],
   "source": [
    "from sklearn.preprocessing import StandardScaler\n"
   ]
  },
  {
   "cell_type": "code",
   "execution_count": 25,
   "metadata": {},
   "outputs": [],
   "source": [
    "# Standardize the data \n",
    "scaler = StandardScaler()\n"
   ]
  },
  {
   "cell_type": "code",
   "execution_count": 26,
   "metadata": {},
   "outputs": [],
   "source": [
    "X_train_scaled = scaler.fit_transform(X_train)\n",
    "X_val_scaled = scaler.transform(X_val)"
   ]
  },
  {
   "cell_type": "code",
   "execution_count": 27,
   "metadata": {},
   "outputs": [
    {
     "data": {
      "text/html": [
       "<div>\n",
       "<style scoped>\n",
       "    .dataframe tbody tr th:only-of-type {\n",
       "        vertical-align: middle;\n",
       "    }\n",
       "\n",
       "    .dataframe tbody tr th {\n",
       "        vertical-align: top;\n",
       "    }\n",
       "\n",
       "    .dataframe thead th {\n",
       "        text-align: right;\n",
       "    }\n",
       "</style>\n",
       "<table border=\"1\" class=\"dataframe\">\n",
       "  <thead>\n",
       "    <tr style=\"text-align: right;\">\n",
       "      <th></th>\n",
       "      <th>X1</th>\n",
       "      <th>X3</th>\n",
       "      <th>X5</th>\n",
       "      <th>X8</th>\n",
       "      <th>X9</th>\n",
       "      <th>X10</th>\n",
       "      <th>X11</th>\n",
       "      <th>X12</th>\n",
       "      <th>X13</th>\n",
       "      <th>X14</th>\n",
       "      <th>...</th>\n",
       "      <th>X122</th>\n",
       "      <th>X125</th>\n",
       "      <th>X126</th>\n",
       "      <th>X127</th>\n",
       "      <th>X128</th>\n",
       "      <th>X134</th>\n",
       "      <th>X135</th>\n",
       "      <th>X136</th>\n",
       "      <th>X137</th>\n",
       "      <th>X138</th>\n",
       "    </tr>\n",
       "  </thead>\n",
       "  <tbody>\n",
       "    <tr>\n",
       "      <th>78315</th>\n",
       "      <td>1.029851</td>\n",
       "      <td>65.0</td>\n",
       "      <td>2.0</td>\n",
       "      <td>3.0</td>\n",
       "      <td>3.0</td>\n",
       "      <td>1.0</td>\n",
       "      <td>8.0</td>\n",
       "      <td>18.0</td>\n",
       "      <td>16.0</td>\n",
       "      <td>20.0</td>\n",
       "      <td>...</td>\n",
       "      <td>3.0</td>\n",
       "      <td>1.0</td>\n",
       "      <td>1.0</td>\n",
       "      <td>14.0</td>\n",
       "      <td>26.0</td>\n",
       "      <td>2.0</td>\n",
       "      <td>1.0</td>\n",
       "      <td>3.0</td>\n",
       "      <td>1.0</td>\n",
       "      <td>8.0</td>\n",
       "    </tr>\n",
       "    <tr>\n",
       "      <th>76704</th>\n",
       "      <td>1.111111</td>\n",
       "      <td>2.0</td>\n",
       "      <td>2.0</td>\n",
       "      <td>1.0</td>\n",
       "      <td>7.0</td>\n",
       "      <td>9.0</td>\n",
       "      <td>7.0</td>\n",
       "      <td>5.0</td>\n",
       "      <td>16.0</td>\n",
       "      <td>16.0</td>\n",
       "      <td>...</td>\n",
       "      <td>4.0</td>\n",
       "      <td>1.0</td>\n",
       "      <td>1.0</td>\n",
       "      <td>9.0</td>\n",
       "      <td>7.0</td>\n",
       "      <td>3.0</td>\n",
       "      <td>1.0</td>\n",
       "      <td>1.0</td>\n",
       "      <td>2.0</td>\n",
       "      <td>9.0</td>\n",
       "    </tr>\n",
       "    <tr>\n",
       "      <th>65414</th>\n",
       "      <td>2.000000</td>\n",
       "      <td>3.0</td>\n",
       "      <td>1.0</td>\n",
       "      <td>9.0</td>\n",
       "      <td>12.0</td>\n",
       "      <td>2.0</td>\n",
       "      <td>10.0</td>\n",
       "      <td>13.0</td>\n",
       "      <td>3.0</td>\n",
       "      <td>12.0</td>\n",
       "      <td>...</td>\n",
       "      <td>1.0</td>\n",
       "      <td>1.0</td>\n",
       "      <td>1.0</td>\n",
       "      <td>13.0</td>\n",
       "      <td>1.0</td>\n",
       "      <td>1.0</td>\n",
       "      <td>2.0</td>\n",
       "      <td>2.0</td>\n",
       "      <td>2.0</td>\n",
       "      <td>5.0</td>\n",
       "    </tr>\n",
       "    <tr>\n",
       "      <th>25126</th>\n",
       "      <td>2.000000</td>\n",
       "      <td>1.0</td>\n",
       "      <td>1.0</td>\n",
       "      <td>2.0</td>\n",
       "      <td>9.0</td>\n",
       "      <td>3.0</td>\n",
       "      <td>8.0</td>\n",
       "      <td>15.0</td>\n",
       "      <td>13.0</td>\n",
       "      <td>19.0</td>\n",
       "      <td>...</td>\n",
       "      <td>1.0</td>\n",
       "      <td>1.0</td>\n",
       "      <td>1.0</td>\n",
       "      <td>12.0</td>\n",
       "      <td>3.0</td>\n",
       "      <td>2.0</td>\n",
       "      <td>2.0</td>\n",
       "      <td>1.0</td>\n",
       "      <td>2.0</td>\n",
       "      <td>3.0</td>\n",
       "    </tr>\n",
       "    <tr>\n",
       "      <th>43353</th>\n",
       "      <td>1.000000</td>\n",
       "      <td>2.0</td>\n",
       "      <td>1.0</td>\n",
       "      <td>9.0</td>\n",
       "      <td>6.0</td>\n",
       "      <td>6.0</td>\n",
       "      <td>2.0</td>\n",
       "      <td>19.0</td>\n",
       "      <td>5.0</td>\n",
       "      <td>6.0</td>\n",
       "      <td>...</td>\n",
       "      <td>2.0</td>\n",
       "      <td>1.0</td>\n",
       "      <td>1.0</td>\n",
       "      <td>16.0</td>\n",
       "      <td>6.0</td>\n",
       "      <td>3.0</td>\n",
       "      <td>2.0</td>\n",
       "      <td>1.0</td>\n",
       "      <td>1.0</td>\n",
       "      <td>3.0</td>\n",
       "    </tr>\n",
       "  </tbody>\n",
       "</table>\n",
       "<p>5 rows × 90 columns</p>\n",
       "</div>"
      ],
      "text/plain": [
       "             X1    X3   X5   X8    X9  X10   X11   X12   X13   X14  ...  X122  \\\n",
       "78315  1.029851  65.0  2.0  3.0   3.0  1.0   8.0  18.0  16.0  20.0  ...   3.0   \n",
       "76704  1.111111   2.0  2.0  1.0   7.0  9.0   7.0   5.0  16.0  16.0  ...   4.0   \n",
       "65414  2.000000   3.0  1.0  9.0  12.0  2.0  10.0  13.0   3.0  12.0  ...   1.0   \n",
       "25126  2.000000   1.0  1.0  2.0   9.0  3.0   8.0  15.0  13.0  19.0  ...   1.0   \n",
       "43353  1.000000   2.0  1.0  9.0   6.0  6.0   2.0  19.0   5.0   6.0  ...   2.0   \n",
       "\n",
       "       X125  X126  X127  X128  X134  X135  X136  X137  X138  \n",
       "78315   1.0   1.0  14.0  26.0   2.0   1.0   3.0   1.0   8.0  \n",
       "76704   1.0   1.0   9.0   7.0   3.0   1.0   1.0   2.0   9.0  \n",
       "65414   1.0   1.0  13.0   1.0   1.0   2.0   2.0   2.0   5.0  \n",
       "25126   1.0   1.0  12.0   3.0   2.0   2.0   1.0   2.0   3.0  \n",
       "43353   1.0   1.0  16.0   6.0   3.0   2.0   1.0   1.0   3.0  \n",
       "\n",
       "[5 rows x 90 columns]"
      ]
     },
     "execution_count": 27,
     "metadata": {},
     "output_type": "execute_result"
    }
   ],
   "source": [
    "#Scaled X_train data\n",
    "X_train.head()"
   ]
  },
  {
   "cell_type": "code",
   "execution_count": 28,
   "metadata": {},
   "outputs": [],
   "source": [
    "from sklearn.decomposition import PCA"
   ]
  },
  {
   "cell_type": "code",
   "execution_count": 29,
   "metadata": {},
   "outputs": [
    {
     "data": {
      "text/html": [
       "<style>#sk-container-id-1 {color: black;background-color: white;}#sk-container-id-1 pre{padding: 0;}#sk-container-id-1 div.sk-toggleable {background-color: white;}#sk-container-id-1 label.sk-toggleable__label {cursor: pointer;display: block;width: 100%;margin-bottom: 0;padding: 0.3em;box-sizing: border-box;text-align: center;}#sk-container-id-1 label.sk-toggleable__label-arrow:before {content: \"▸\";float: left;margin-right: 0.25em;color: #696969;}#sk-container-id-1 label.sk-toggleable__label-arrow:hover:before {color: black;}#sk-container-id-1 div.sk-estimator:hover label.sk-toggleable__label-arrow:before {color: black;}#sk-container-id-1 div.sk-toggleable__content {max-height: 0;max-width: 0;overflow: hidden;text-align: left;background-color: #f0f8ff;}#sk-container-id-1 div.sk-toggleable__content pre {margin: 0.2em;color: black;border-radius: 0.25em;background-color: #f0f8ff;}#sk-container-id-1 input.sk-toggleable__control:checked~div.sk-toggleable__content {max-height: 200px;max-width: 100%;overflow: auto;}#sk-container-id-1 input.sk-toggleable__control:checked~label.sk-toggleable__label-arrow:before {content: \"▾\";}#sk-container-id-1 div.sk-estimator input.sk-toggleable__control:checked~label.sk-toggleable__label {background-color: #d4ebff;}#sk-container-id-1 div.sk-label input.sk-toggleable__control:checked~label.sk-toggleable__label {background-color: #d4ebff;}#sk-container-id-1 input.sk-hidden--visually {border: 0;clip: rect(1px 1px 1px 1px);clip: rect(1px, 1px, 1px, 1px);height: 1px;margin: -1px;overflow: hidden;padding: 0;position: absolute;width: 1px;}#sk-container-id-1 div.sk-estimator {font-family: monospace;background-color: #f0f8ff;border: 1px dotted black;border-radius: 0.25em;box-sizing: border-box;margin-bottom: 0.5em;}#sk-container-id-1 div.sk-estimator:hover {background-color: #d4ebff;}#sk-container-id-1 div.sk-parallel-item::after {content: \"\";width: 100%;border-bottom: 1px solid gray;flex-grow: 1;}#sk-container-id-1 div.sk-label:hover label.sk-toggleable__label {background-color: #d4ebff;}#sk-container-id-1 div.sk-serial::before {content: \"\";position: absolute;border-left: 1px solid gray;box-sizing: border-box;top: 0;bottom: 0;left: 50%;z-index: 0;}#sk-container-id-1 div.sk-serial {display: flex;flex-direction: column;align-items: center;background-color: white;padding-right: 0.2em;padding-left: 0.2em;position: relative;}#sk-container-id-1 div.sk-item {position: relative;z-index: 1;}#sk-container-id-1 div.sk-parallel {display: flex;align-items: stretch;justify-content: center;background-color: white;position: relative;}#sk-container-id-1 div.sk-item::before, #sk-container-id-1 div.sk-parallel-item::before {content: \"\";position: absolute;border-left: 1px solid gray;box-sizing: border-box;top: 0;bottom: 0;left: 50%;z-index: -1;}#sk-container-id-1 div.sk-parallel-item {display: flex;flex-direction: column;z-index: 1;position: relative;background-color: white;}#sk-container-id-1 div.sk-parallel-item:first-child::after {align-self: flex-end;width: 50%;}#sk-container-id-1 div.sk-parallel-item:last-child::after {align-self: flex-start;width: 50%;}#sk-container-id-1 div.sk-parallel-item:only-child::after {width: 0;}#sk-container-id-1 div.sk-dashed-wrapped {border: 1px dashed gray;margin: 0 0.4em 0.5em 0.4em;box-sizing: border-box;padding-bottom: 0.4em;background-color: white;}#sk-container-id-1 div.sk-label label {font-family: monospace;font-weight: bold;display: inline-block;line-height: 1.2em;}#sk-container-id-1 div.sk-label-container {text-align: center;}#sk-container-id-1 div.sk-container {/* jupyter's `normalize.less` sets `[hidden] { display: none; }` but bootstrap.min.css set `[hidden] { display: none !important; }` so we also need the `!important` here to be able to override the default hidden behavior on the sphinx rendered scikit-learn.org. See: https://github.com/scikit-learn/scikit-learn/issues/21755 */display: inline-block !important;position: relative;}#sk-container-id-1 div.sk-text-repr-fallback {display: none;}</style><div id=\"sk-container-id-1\" class=\"sk-top-container\"><div class=\"sk-text-repr-fallback\"><pre>PCA()</pre><b>In a Jupyter environment, please rerun this cell to show the HTML representation or trust the notebook. <br />On GitHub, the HTML representation is unable to render, please try loading this page with nbviewer.org.</b></div><div class=\"sk-container\" hidden><div class=\"sk-item\"><div class=\"sk-estimator sk-toggleable\"><input class=\"sk-toggleable__control sk-hidden--visually\" id=\"sk-estimator-id-1\" type=\"checkbox\" checked><label for=\"sk-estimator-id-1\" class=\"sk-toggleable__label sk-toggleable__label-arrow\">PCA</label><div class=\"sk-toggleable__content\"><pre>PCA()</pre></div></div></div></div></div>"
      ],
      "text/plain": [
       "PCA()"
      ]
     },
     "execution_count": 29,
     "metadata": {},
     "output_type": "execute_result"
    }
   ],
   "source": [
    "# Perform PCA on data for reducing the dimension of the data before training\n",
    "pca = PCA()\n",
    "pca.fit(X_train_scaled)"
   ]
  },
  {
   "cell_type": "code",
   "execution_count": 30,
   "metadata": {},
   "outputs": [],
   "source": [
    "# Analyze explained variance ratio\n",
    "explained_variance = pca.explained_variance_ratio_"
   ]
  },
  {
   "cell_type": "code",
   "execution_count": 31,
   "metadata": {},
   "outputs": [],
   "source": [
    "import numpy as np"
   ]
  },
  {
   "cell_type": "code",
   "execution_count": 32,
   "metadata": {},
   "outputs": [],
   "source": [
    "# Determine the number of components \n",
    "# Here, we choose a threshold of 80% explained variance \n",
    "threshold = 0.8\n",
    "num_components = np.where(np.cumsum(explained_variance) >= threshold)[0][0] + 1\n"
   ]
  },
  {
   "cell_type": "code",
   "execution_count": 33,
   "metadata": {},
   "outputs": [
    {
     "data": {
      "text/plain": [
       "45"
      ]
     },
     "execution_count": 33,
     "metadata": {},
     "output_type": "execute_result"
    }
   ],
   "source": [
    "num_components"
   ]
  },
  {
   "cell_type": "code",
   "execution_count": 34,
   "metadata": {},
   "outputs": [],
   "source": [
    "# Select principal components with significant variance\n",
    "pca = PCA(n_components=num_components)\n",
    "pca.fit(X_train_scaled)\n",
    "principal_components = pca.transform(X_train_scaled)\n"
   ]
  },
  {
   "cell_type": "code",
   "execution_count": 35,
   "metadata": {},
   "outputs": [],
   "source": [
    "# Reduced training data\n",
    "X_train_PCA = pd.DataFrame(principal_components)"
   ]
  },
  {
   "cell_type": "code",
   "execution_count": 36,
   "metadata": {},
   "outputs": [
    {
     "data": {
      "text/html": [
       "<div>\n",
       "<style scoped>\n",
       "    .dataframe tbody tr th:only-of-type {\n",
       "        vertical-align: middle;\n",
       "    }\n",
       "\n",
       "    .dataframe tbody tr th {\n",
       "        vertical-align: top;\n",
       "    }\n",
       "\n",
       "    .dataframe thead th {\n",
       "        text-align: right;\n",
       "    }\n",
       "</style>\n",
       "<table border=\"1\" class=\"dataframe\">\n",
       "  <thead>\n",
       "    <tr style=\"text-align: right;\">\n",
       "      <th></th>\n",
       "      <th>0</th>\n",
       "      <th>1</th>\n",
       "      <th>2</th>\n",
       "      <th>3</th>\n",
       "      <th>4</th>\n",
       "      <th>5</th>\n",
       "      <th>6</th>\n",
       "      <th>7</th>\n",
       "      <th>8</th>\n",
       "      <th>9</th>\n",
       "      <th>...</th>\n",
       "      <th>35</th>\n",
       "      <th>36</th>\n",
       "      <th>37</th>\n",
       "      <th>38</th>\n",
       "      <th>39</th>\n",
       "      <th>40</th>\n",
       "      <th>41</th>\n",
       "      <th>42</th>\n",
       "      <th>43</th>\n",
       "      <th>44</th>\n",
       "    </tr>\n",
       "  </thead>\n",
       "  <tbody>\n",
       "    <tr>\n",
       "      <th>0</th>\n",
       "      <td>0.193740</td>\n",
       "      <td>1.068066</td>\n",
       "      <td>-1.802979</td>\n",
       "      <td>0.716668</td>\n",
       "      <td>0.245532</td>\n",
       "      <td>-0.946589</td>\n",
       "      <td>0.542223</td>\n",
       "      <td>0.813412</td>\n",
       "      <td>-0.343356</td>\n",
       "      <td>0.195185</td>\n",
       "      <td>...</td>\n",
       "      <td>0.329705</td>\n",
       "      <td>-1.574592</td>\n",
       "      <td>-0.228060</td>\n",
       "      <td>-0.693630</td>\n",
       "      <td>0.843106</td>\n",
       "      <td>-0.011448</td>\n",
       "      <td>0.703529</td>\n",
       "      <td>-0.706154</td>\n",
       "      <td>0.517926</td>\n",
       "      <td>1.382166</td>\n",
       "    </tr>\n",
       "    <tr>\n",
       "      <th>1</th>\n",
       "      <td>-1.340912</td>\n",
       "      <td>-0.726117</td>\n",
       "      <td>0.180911</td>\n",
       "      <td>-0.873090</td>\n",
       "      <td>0.622646</td>\n",
       "      <td>0.092024</td>\n",
       "      <td>-0.383586</td>\n",
       "      <td>0.586373</td>\n",
       "      <td>-0.394398</td>\n",
       "      <td>1.230867</td>\n",
       "      <td>...</td>\n",
       "      <td>-0.190200</td>\n",
       "      <td>0.125538</td>\n",
       "      <td>0.169241</td>\n",
       "      <td>-0.365201</td>\n",
       "      <td>-0.844722</td>\n",
       "      <td>0.264513</td>\n",
       "      <td>-0.345707</td>\n",
       "      <td>-0.435297</td>\n",
       "      <td>0.193999</td>\n",
       "      <td>-1.029928</td>\n",
       "    </tr>\n",
       "    <tr>\n",
       "      <th>2</th>\n",
       "      <td>-2.091645</td>\n",
       "      <td>-0.683056</td>\n",
       "      <td>0.375289</td>\n",
       "      <td>-0.270467</td>\n",
       "      <td>0.095833</td>\n",
       "      <td>0.105796</td>\n",
       "      <td>0.294689</td>\n",
       "      <td>-0.131138</td>\n",
       "      <td>-0.091465</td>\n",
       "      <td>0.062344</td>\n",
       "      <td>...</td>\n",
       "      <td>-0.870878</td>\n",
       "      <td>-1.263791</td>\n",
       "      <td>0.552097</td>\n",
       "      <td>-0.283589</td>\n",
       "      <td>0.318867</td>\n",
       "      <td>0.373664</td>\n",
       "      <td>0.158005</td>\n",
       "      <td>-0.063456</td>\n",
       "      <td>0.116808</td>\n",
       "      <td>-0.262020</td>\n",
       "    </tr>\n",
       "    <tr>\n",
       "      <th>3</th>\n",
       "      <td>-1.758103</td>\n",
       "      <td>-0.193499</td>\n",
       "      <td>0.336643</td>\n",
       "      <td>0.061321</td>\n",
       "      <td>-0.206713</td>\n",
       "      <td>0.260056</td>\n",
       "      <td>0.298788</td>\n",
       "      <td>0.455918</td>\n",
       "      <td>0.587693</td>\n",
       "      <td>-0.323653</td>\n",
       "      <td>...</td>\n",
       "      <td>0.691871</td>\n",
       "      <td>0.022996</td>\n",
       "      <td>0.388634</td>\n",
       "      <td>-0.202192</td>\n",
       "      <td>0.893385</td>\n",
       "      <td>0.450660</td>\n",
       "      <td>0.452161</td>\n",
       "      <td>0.668702</td>\n",
       "      <td>0.730252</td>\n",
       "      <td>-0.605391</td>\n",
       "    </tr>\n",
       "    <tr>\n",
       "      <th>4</th>\n",
       "      <td>-1.854435</td>\n",
       "      <td>-0.544637</td>\n",
       "      <td>0.668294</td>\n",
       "      <td>-0.047979</td>\n",
       "      <td>0.239525</td>\n",
       "      <td>-0.447445</td>\n",
       "      <td>0.414577</td>\n",
       "      <td>-1.223564</td>\n",
       "      <td>-0.061040</td>\n",
       "      <td>-0.517816</td>\n",
       "      <td>...</td>\n",
       "      <td>-0.317987</td>\n",
       "      <td>0.293872</td>\n",
       "      <td>-0.459827</td>\n",
       "      <td>-0.453540</td>\n",
       "      <td>0.953535</td>\n",
       "      <td>0.819047</td>\n",
       "      <td>-0.487910</td>\n",
       "      <td>0.001555</td>\n",
       "      <td>0.326497</td>\n",
       "      <td>-0.453497</td>\n",
       "    </tr>\n",
       "  </tbody>\n",
       "</table>\n",
       "<p>5 rows × 45 columns</p>\n",
       "</div>"
      ],
      "text/plain": [
       "         0         1         2         3         4         5         6   \\\n",
       "0  0.193740  1.068066 -1.802979  0.716668  0.245532 -0.946589  0.542223   \n",
       "1 -1.340912 -0.726117  0.180911 -0.873090  0.622646  0.092024 -0.383586   \n",
       "2 -2.091645 -0.683056  0.375289 -0.270467  0.095833  0.105796  0.294689   \n",
       "3 -1.758103 -0.193499  0.336643  0.061321 -0.206713  0.260056  0.298788   \n",
       "4 -1.854435 -0.544637  0.668294 -0.047979  0.239525 -0.447445  0.414577   \n",
       "\n",
       "         7         8         9   ...        35        36        37        38  \\\n",
       "0  0.813412 -0.343356  0.195185  ...  0.329705 -1.574592 -0.228060 -0.693630   \n",
       "1  0.586373 -0.394398  1.230867  ... -0.190200  0.125538  0.169241 -0.365201   \n",
       "2 -0.131138 -0.091465  0.062344  ... -0.870878 -1.263791  0.552097 -0.283589   \n",
       "3  0.455918  0.587693 -0.323653  ...  0.691871  0.022996  0.388634 -0.202192   \n",
       "4 -1.223564 -0.061040 -0.517816  ... -0.317987  0.293872 -0.459827 -0.453540   \n",
       "\n",
       "         39        40        41        42        43        44  \n",
       "0  0.843106 -0.011448  0.703529 -0.706154  0.517926  1.382166  \n",
       "1 -0.844722  0.264513 -0.345707 -0.435297  0.193999 -1.029928  \n",
       "2  0.318867  0.373664  0.158005 -0.063456  0.116808 -0.262020  \n",
       "3  0.893385  0.450660  0.452161  0.668702  0.730252 -0.605391  \n",
       "4  0.953535  0.819047 -0.487910  0.001555  0.326497 -0.453497  \n",
       "\n",
       "[5 rows x 45 columns]"
      ]
     },
     "execution_count": 36,
     "metadata": {},
     "output_type": "execute_result"
    }
   ],
   "source": [
    "X_train_PCA.head()"
   ]
  },
  {
   "cell_type": "code",
   "execution_count": 37,
   "metadata": {},
   "outputs": [],
   "source": [
    "# Apply PCA transformation to validation data using the components from training data\n",
    "X_val_PCA = pca.transform(X_val_scaled)"
   ]
  },
  {
   "cell_type": "code",
   "execution_count": 38,
   "metadata": {},
   "outputs": [
    {
     "data": {
      "text/plain": [
       "(42888, 45)"
      ]
     },
     "execution_count": 38,
     "metadata": {},
     "output_type": "execute_result"
    }
   ],
   "source": [
    "X_train_PCA.shape"
   ]
  },
  {
   "cell_type": "code",
   "execution_count": 39,
   "metadata": {},
   "outputs": [
    {
     "data": {
      "text/plain": [
       "1    33978\n",
       "0     8910\n",
       "Name: label, dtype: int64"
      ]
     },
     "execution_count": 39,
     "metadata": {},
     "output_type": "execute_result"
    }
   ],
   "source": [
    "y_train.value_counts()"
   ]
  },
  {
   "cell_type": "code",
   "execution_count": 40,
   "metadata": {},
   "outputs": [
    {
     "name": "stdout",
     "output_type": "stream",
     "text": [
      "11080 42530\n"
     ]
    }
   ],
   "source": [
    "# Calculating weights for handling class imbalance\n",
    "\n",
    "\n",
    "count_label_0 = new_train_df_clean['label'].value_counts()[0]\n",
    "count_label_1 = new_train_df_clean['label'].value_counts()[1]\n",
    "print(count_label_0, count_label_1)\n",
    "\n",
    "tot = count_label_0 + count_label_1\n",
    "weight_for_class_0 = tot/(2*count_label_0)\n",
    "weight_for_class_1 = tot/(2*count_label_1)\n",
    "class_weights = {0: weight_for_class_0, 1: weight_for_class_1}\n"
   ]
  },
  {
   "cell_type": "code",
   "execution_count": 41,
   "metadata": {},
   "outputs": [
    {
     "data": {
      "text/plain": [
       "{0: 2.4192238267148016, 1: 0.6302609922407713}"
      ]
     },
     "execution_count": 41,
     "metadata": {},
     "output_type": "execute_result"
    }
   ],
   "source": [
    "class_weights"
   ]
  },
  {
   "cell_type": "markdown",
   "metadata": {},
   "source": [
    "# Model Training"
   ]
  },
  {
   "cell_type": "markdown",
   "metadata": {},
   "source": [
    "### 1. Logistics Regression"
   ]
  },
  {
   "cell_type": "code",
   "execution_count": 42,
   "metadata": {},
   "outputs": [],
   "source": [
    "from sklearn.linear_model import LogisticRegression\n",
    "from sklearn.model_selection import GridSearchCV"
   ]
  },
  {
   "cell_type": "code",
   "execution_count": 43,
   "metadata": {},
   "outputs": [],
   "source": [
    "\n",
    "model_LR = LogisticRegression(class_weight=class_weights, max_iter=1000)\n"
   ]
  },
  {
   "cell_type": "code",
   "execution_count": 44,
   "metadata": {},
   "outputs": [],
   "source": [
    "LR_param_grid = {\n",
    "    'C': [0.001, 0.01, 0.1, 1, 10, 100],  # Regularization parameter\n",
    "    'solver': ['liblinear', 'lbfgs']  # Solver options\n",
    "}\n"
   ]
  },
  {
   "cell_type": "code",
   "execution_count": 45,
   "metadata": {},
   "outputs": [],
   "source": [
    "grid_search = GridSearchCV(model_LR, param_grid= LR_param_grid, cv=3, scoring=\"f1\")  # 5-fold cross-validation\n"
   ]
  },
  {
   "cell_type": "code",
   "execution_count": 46,
   "metadata": {},
   "outputs": [
    {
     "data": {
      "text/html": [
       "<style>#sk-container-id-2 {color: black;background-color: white;}#sk-container-id-2 pre{padding: 0;}#sk-container-id-2 div.sk-toggleable {background-color: white;}#sk-container-id-2 label.sk-toggleable__label {cursor: pointer;display: block;width: 100%;margin-bottom: 0;padding: 0.3em;box-sizing: border-box;text-align: center;}#sk-container-id-2 label.sk-toggleable__label-arrow:before {content: \"▸\";float: left;margin-right: 0.25em;color: #696969;}#sk-container-id-2 label.sk-toggleable__label-arrow:hover:before {color: black;}#sk-container-id-2 div.sk-estimator:hover label.sk-toggleable__label-arrow:before {color: black;}#sk-container-id-2 div.sk-toggleable__content {max-height: 0;max-width: 0;overflow: hidden;text-align: left;background-color: #f0f8ff;}#sk-container-id-2 div.sk-toggleable__content pre {margin: 0.2em;color: black;border-radius: 0.25em;background-color: #f0f8ff;}#sk-container-id-2 input.sk-toggleable__control:checked~div.sk-toggleable__content {max-height: 200px;max-width: 100%;overflow: auto;}#sk-container-id-2 input.sk-toggleable__control:checked~label.sk-toggleable__label-arrow:before {content: \"▾\";}#sk-container-id-2 div.sk-estimator input.sk-toggleable__control:checked~label.sk-toggleable__label {background-color: #d4ebff;}#sk-container-id-2 div.sk-label input.sk-toggleable__control:checked~label.sk-toggleable__label {background-color: #d4ebff;}#sk-container-id-2 input.sk-hidden--visually {border: 0;clip: rect(1px 1px 1px 1px);clip: rect(1px, 1px, 1px, 1px);height: 1px;margin: -1px;overflow: hidden;padding: 0;position: absolute;width: 1px;}#sk-container-id-2 div.sk-estimator {font-family: monospace;background-color: #f0f8ff;border: 1px dotted black;border-radius: 0.25em;box-sizing: border-box;margin-bottom: 0.5em;}#sk-container-id-2 div.sk-estimator:hover {background-color: #d4ebff;}#sk-container-id-2 div.sk-parallel-item::after {content: \"\";width: 100%;border-bottom: 1px solid gray;flex-grow: 1;}#sk-container-id-2 div.sk-label:hover label.sk-toggleable__label {background-color: #d4ebff;}#sk-container-id-2 div.sk-serial::before {content: \"\";position: absolute;border-left: 1px solid gray;box-sizing: border-box;top: 0;bottom: 0;left: 50%;z-index: 0;}#sk-container-id-2 div.sk-serial {display: flex;flex-direction: column;align-items: center;background-color: white;padding-right: 0.2em;padding-left: 0.2em;position: relative;}#sk-container-id-2 div.sk-item {position: relative;z-index: 1;}#sk-container-id-2 div.sk-parallel {display: flex;align-items: stretch;justify-content: center;background-color: white;position: relative;}#sk-container-id-2 div.sk-item::before, #sk-container-id-2 div.sk-parallel-item::before {content: \"\";position: absolute;border-left: 1px solid gray;box-sizing: border-box;top: 0;bottom: 0;left: 50%;z-index: -1;}#sk-container-id-2 div.sk-parallel-item {display: flex;flex-direction: column;z-index: 1;position: relative;background-color: white;}#sk-container-id-2 div.sk-parallel-item:first-child::after {align-self: flex-end;width: 50%;}#sk-container-id-2 div.sk-parallel-item:last-child::after {align-self: flex-start;width: 50%;}#sk-container-id-2 div.sk-parallel-item:only-child::after {width: 0;}#sk-container-id-2 div.sk-dashed-wrapped {border: 1px dashed gray;margin: 0 0.4em 0.5em 0.4em;box-sizing: border-box;padding-bottom: 0.4em;background-color: white;}#sk-container-id-2 div.sk-label label {font-family: monospace;font-weight: bold;display: inline-block;line-height: 1.2em;}#sk-container-id-2 div.sk-label-container {text-align: center;}#sk-container-id-2 div.sk-container {/* jupyter's `normalize.less` sets `[hidden] { display: none; }` but bootstrap.min.css set `[hidden] { display: none !important; }` so we also need the `!important` here to be able to override the default hidden behavior on the sphinx rendered scikit-learn.org. See: https://github.com/scikit-learn/scikit-learn/issues/21755 */display: inline-block !important;position: relative;}#sk-container-id-2 div.sk-text-repr-fallback {display: none;}</style><div id=\"sk-container-id-2\" class=\"sk-top-container\"><div class=\"sk-text-repr-fallback\"><pre>GridSearchCV(cv=3,\n",
       "             estimator=LogisticRegression(class_weight={0: 2.4192238267148016,\n",
       "                                                        1: 0.6302609922407713},\n",
       "                                          max_iter=1000),\n",
       "             param_grid={&#x27;C&#x27;: [0.001, 0.01, 0.1, 1, 10, 100],\n",
       "                         &#x27;solver&#x27;: [&#x27;liblinear&#x27;, &#x27;lbfgs&#x27;]},\n",
       "             scoring=&#x27;f1&#x27;)</pre><b>In a Jupyter environment, please rerun this cell to show the HTML representation or trust the notebook. <br />On GitHub, the HTML representation is unable to render, please try loading this page with nbviewer.org.</b></div><div class=\"sk-container\" hidden><div class=\"sk-item sk-dashed-wrapped\"><div class=\"sk-label-container\"><div class=\"sk-label sk-toggleable\"><input class=\"sk-toggleable__control sk-hidden--visually\" id=\"sk-estimator-id-2\" type=\"checkbox\" ><label for=\"sk-estimator-id-2\" class=\"sk-toggleable__label sk-toggleable__label-arrow\">GridSearchCV</label><div class=\"sk-toggleable__content\"><pre>GridSearchCV(cv=3,\n",
       "             estimator=LogisticRegression(class_weight={0: 2.4192238267148016,\n",
       "                                                        1: 0.6302609922407713},\n",
       "                                          max_iter=1000),\n",
       "             param_grid={&#x27;C&#x27;: [0.001, 0.01, 0.1, 1, 10, 100],\n",
       "                         &#x27;solver&#x27;: [&#x27;liblinear&#x27;, &#x27;lbfgs&#x27;]},\n",
       "             scoring=&#x27;f1&#x27;)</pre></div></div></div><div class=\"sk-parallel\"><div class=\"sk-parallel-item\"><div class=\"sk-item\"><div class=\"sk-label-container\"><div class=\"sk-label sk-toggleable\"><input class=\"sk-toggleable__control sk-hidden--visually\" id=\"sk-estimator-id-3\" type=\"checkbox\" ><label for=\"sk-estimator-id-3\" class=\"sk-toggleable__label sk-toggleable__label-arrow\">estimator: LogisticRegression</label><div class=\"sk-toggleable__content\"><pre>LogisticRegression(class_weight={0: 2.4192238267148016, 1: 0.6302609922407713},\n",
       "                   max_iter=1000)</pre></div></div></div><div class=\"sk-serial\"><div class=\"sk-item\"><div class=\"sk-estimator sk-toggleable\"><input class=\"sk-toggleable__control sk-hidden--visually\" id=\"sk-estimator-id-4\" type=\"checkbox\" ><label for=\"sk-estimator-id-4\" class=\"sk-toggleable__label sk-toggleable__label-arrow\">LogisticRegression</label><div class=\"sk-toggleable__content\"><pre>LogisticRegression(class_weight={0: 2.4192238267148016, 1: 0.6302609922407713},\n",
       "                   max_iter=1000)</pre></div></div></div></div></div></div></div></div></div></div>"
      ],
      "text/plain": [
       "GridSearchCV(cv=3,\n",
       "             estimator=LogisticRegression(class_weight={0: 2.4192238267148016,\n",
       "                                                        1: 0.6302609922407713},\n",
       "                                          max_iter=1000),\n",
       "             param_grid={'C': [0.001, 0.01, 0.1, 1, 10, 100],\n",
       "                         'solver': ['liblinear', 'lbfgs']},\n",
       "             scoring='f1')"
      ]
     },
     "execution_count": 46,
     "metadata": {},
     "output_type": "execute_result"
    }
   ],
   "source": [
    "# model_LR.fit(X_train_PCA, y_train)\n",
    "grid_search.fit(X_train_PCA, y_train)\n"
   ]
  },
  {
   "cell_type": "code",
   "execution_count": 47,
   "metadata": {},
   "outputs": [],
   "source": [
    "model_LR = grid_search.best_estimator_\n"
   ]
  },
  {
   "cell_type": "code",
   "execution_count": 48,
   "metadata": {},
   "outputs": [],
   "source": [
    "y_pred_LR = model_LR.predict(X_val_PCA)"
   ]
  },
  {
   "cell_type": "code",
   "execution_count": 49,
   "metadata": {},
   "outputs": [],
   "source": [
    "from sklearn.metrics import accuracy_score, precision_score, recall_score, f1_score\n",
    "\n",
    "# Assuming y_pred is the predicted labels for the  data\n",
    "# Assuming y_val is the true labels for the validation data\n",
    "def evaluate_model(y_val, y_pred):\n",
    "    accuracy = accuracy_score(y_val, y_pred)\n",
    "    precision = precision_score(y_val, y_pred)\n",
    "    recall = recall_score(y_val, y_pred)\n",
    "    f1 = f1_score(y_val, y_pred)\n",
    "    return accuracy, precision, recall, f1\n",
    "\n",
    "\n",
    "\n"
   ]
  },
  {
   "cell_type": "code",
   "execution_count": 50,
   "metadata": {},
   "outputs": [
    {
     "name": "stdout",
     "output_type": "stream",
     "text": [
      "Logistics Regression results: \n",
      "Accuracy: 0.8487222533109494\n",
      "Precision: 0.9185793669968592\n",
      "Recall: 0.8891487371375117\n",
      "F1 Score: 0.9036244800950683\n"
     ]
    }
   ],
   "source": [
    "print(\"Logistics Regression results: \")\n",
    "accuracy, precision, recall, f1 = evaluate_model(y_val, y_pred_LR)\n",
    "print(\"Accuracy:\", accuracy)\n",
    "print(\"Precision:\", precision)\n",
    "print(\"Recall:\", recall)\n",
    "print(\"F1 Score:\", f1)"
   ]
  },
  {
   "cell_type": "markdown",
   "metadata": {},
   "source": [
    "### 2. Random Forest classifier"
   ]
  },
  {
   "cell_type": "code",
   "execution_count": 51,
   "metadata": {},
   "outputs": [],
   "source": [
    "from sklearn.ensemble import RandomForestClassifier"
   ]
  },
  {
   "cell_type": "code",
   "execution_count": 52,
   "metadata": {},
   "outputs": [],
   "source": [
    "RF_param_grid = {\n",
    "    'n_estimators': [100, 200, 500],  # Number of trees in the forest\n",
    "    'max_depth': [4, 8, 16],  # Maximum depth of individual trees\n",
    "    'min_samples_split': [2, 5, 10],  # Minimum samples to split a node\n",
    "    'min_samples_leaf': [1, 5, 10],  # Minimum samples required at each leaf node\n",
    "}"
   ]
  },
  {
   "cell_type": "code",
   "execution_count": 53,
   "metadata": {},
   "outputs": [],
   "source": [
    "# Create and train the Random Forest model with class weights\n",
    "model_rf = RandomForestClassifier(class_weight=class_weights)\n",
    "# model_rf.fit(X_train_PCA, y_train)"
   ]
  },
  {
   "cell_type": "code",
   "execution_count": 54,
   "metadata": {},
   "outputs": [],
   "source": [
    "grid_search = GridSearchCV(model_rf, RF_param_grid, cv=5, scoring=\"f1\")"
   ]
  },
  {
   "cell_type": "code",
   "execution_count": null,
   "metadata": {},
   "outputs": [],
   "source": [
    "grid_search.fit(X_train_PCA, y_train)\n"
   ]
  },
  {
   "cell_type": "code",
   "execution_count": null,
   "metadata": {},
   "outputs": [],
   "source": [
    "model_RF = grid_search.best_estimator_\n"
   ]
  },
  {
   "cell_type": "code",
   "execution_count": null,
   "metadata": {},
   "outputs": [],
   "source": [
    "# Make predictions on the testing set\n",
    "y_pred_rf = model_RF.predict(X_val_PCA)"
   ]
  },
  {
   "cell_type": "code",
   "execution_count": null,
   "metadata": {},
   "outputs": [],
   "source": [
    "accuracy, precision, recall, f1 = evaluate_model(y_val, y_pred_rf)\n",
    "print(f\"Random Forest Model Accuracy: {accuracy:.4f}\")\n",
    "print(f\"Random Forest Model Precision: {precision:.4f}\")\n",
    "print(f\"Random Forest Model Recall: {recall:.4f}\")\n",
    "print(f\"Random Forest Model F1 Score: {f1:.4f}\")"
   ]
  },
  {
   "cell_type": "code",
   "execution_count": null,
   "metadata": {},
   "outputs": [],
   "source": []
  },
  {
   "cell_type": "markdown",
   "metadata": {},
   "source": [
    "### 3. CatBoost Classifier"
   ]
  },
  {
   "cell_type": "code",
   "execution_count": null,
   "metadata": {},
   "outputs": [],
   "source": [
    "from catboost import CatBoostClassifier"
   ]
  },
  {
   "cell_type": "code",
   "execution_count": null,
   "metadata": {},
   "outputs": [],
   "source": [
    "model_CB = CatBoostClassifier(iterations=1000,  # Adjust iterations as needed\n",
    "                       class_weights=class_weights)"
   ]
  },
  {
   "cell_type": "code",
   "execution_count": null,
   "metadata": {},
   "outputs": [],
   "source": [
    "model_CB.fit(X_train_PCA, y_train)"
   ]
  },
  {
   "cell_type": "code",
   "execution_count": null,
   "metadata": {},
   "outputs": [],
   "source": [
    "# Make predictions on the testing set\n",
    "y_pred_CB = model_CB.predict(X_val_PCA)"
   ]
  },
  {
   "cell_type": "code",
   "execution_count": null,
   "metadata": {},
   "outputs": [],
   "source": [
    "accuracy, precision, recall, f1 = evaluate_model(y_val, y_pred_CB)\n",
    "print(\"CatBoost Model Performance:\")\n",
    "print(f\"Accuracy: {accuracy:.4f}\")\n",
    "print(f\"Precision: {precision:.4f}\")\n",
    "print(f\"Recall: {recall:.4f}\")\n",
    "print(f\"F1 Score: {f1:.4f}\")"
   ]
  },
  {
   "cell_type": "code",
   "execution_count": null,
   "metadata": {},
   "outputs": [],
   "source": []
  },
  {
   "cell_type": "markdown",
   "metadata": {},
   "source": [
    "### 4. LBGM Classifier"
   ]
  },
  {
   "cell_type": "code",
   "execution_count": null,
   "metadata": {},
   "outputs": [],
   "source": [
    "from lightgbm import LGBMClassifier"
   ]
  },
  {
   "cell_type": "code",
   "execution_count": null,
   "metadata": {},
   "outputs": [],
   "source": [
    "# Create LGBMClassifier model with class weights\n",
    "model_LGBM = LGBMClassifier(class_weight=class_weights)\n"
   ]
  },
  {
   "cell_type": "code",
   "execution_count": null,
   "metadata": {},
   "outputs": [],
   "source": [
    "\n",
    "# Train the model\n",
    "model_LGBM.fit(X_train_PCA, y_train)\n",
    "\n"
   ]
  },
  {
   "cell_type": "code",
   "execution_count": null,
   "metadata": {},
   "outputs": [],
   "source": [
    "# Make predictions on the testing set\n",
    "y_pred_LGBM = model_LGBM.predict(X_val_PCA)"
   ]
  },
  {
   "cell_type": "code",
   "execution_count": null,
   "metadata": {},
   "outputs": [],
   "source": [
    "accuracy, precision, recall, f1 = evaluate_model(y_val, y_pred_CB)\n",
    "\n",
    "print(\"LGBM Model Performance:\")\n",
    "print(f\"Accuracy: {accuracy:.4f}\")\n",
    "print(f\"Precision: {precision:.4f}\")\n",
    "print(f\"Recall: {recall:.4f}\")\n",
    "print(f\"F1 Score: {f1:.4f}\")"
   ]
  },
  {
   "cell_type": "code",
   "execution_count": null,
   "metadata": {},
   "outputs": [],
   "source": []
  },
  {
   "cell_type": "markdown",
   "metadata": {},
   "source": [
    "## Decision Trees"
   ]
  },
  {
   "cell_type": "code",
   "execution_count": null,
   "metadata": {},
   "outputs": [],
   "source": [
    "from sklearn.tree import DecisionTreeClassifier"
   ]
  },
  {
   "cell_type": "code",
   "execution_count": null,
   "metadata": {},
   "outputs": [],
   "source": [
    "model_DT = DecisionTreeClassifier( class_weight=class_weights) "
   ]
  },
  {
   "cell_type": "code",
   "execution_count": null,
   "metadata": {},
   "outputs": [],
   "source": [
    "model_DT.fit(X_train_PCA, y_train)"
   ]
  },
  {
   "cell_type": "code",
   "execution_count": null,
   "metadata": {},
   "outputs": [],
   "source": [
    "y_pred_DT = model_DT.predict(X_val_reduced)"
   ]
  },
  {
   "cell_type": "code",
   "execution_count": null,
   "metadata": {},
   "outputs": [],
   "source": [
    "# Evaluate model performance (include metrics for imbalanced data)\n",
    "accuracy, precision, recall, f1 = evaluate_model(y_val, y_pred_DT)\n",
    "\n",
    "print(\"Decision Tree Classifier Performance:\")\n",
    "print(f\"Accuracy: {accuracy:.4f}\")\n",
    "print(f\"Precision: {precision:.4f}\")\n",
    "print(f\"Recall: {recall:.4f}\")\n",
    "print(f\"F1 Score: {f1:.4f}\")"
   ]
  },
  {
   "cell_type": "code",
   "execution_count": null,
   "metadata": {},
   "outputs": [],
   "source": []
  },
  {
   "cell_type": "code",
   "execution_count": null,
   "metadata": {},
   "outputs": [],
   "source": [
    "import sklearn.base as skb"
   ]
  },
  {
   "cell_type": "code",
   "execution_count": null,
   "metadata": {},
   "outputs": [],
   "source": [
    "class StackedModel(skb.BaseEstimator):\n",
    "    '''\n",
    "    Here we will get a set of models as parameter already trained and \n",
    "    will calculate the mean of the predictions for using each model predictions\n",
    "    '''\n",
    "    def __init__(self, algs):\n",
    "        self.algs = algs\n",
    "\n",
    "    # # Define clones of parameters models\n",
    "    # def fit(self, X, y):\n",
    "    #     self.algs_ = [skb.clone(x) for x in self.algs]\n",
    "        \n",
    "    #     # Train cloned base models\n",
    "    #     for alg in self.algs_:\n",
    "    #         alg.fit(X, y)\n",
    "\n",
    "    #     return self\n",
    "    \n",
    "    # Average predictions of all trained base models\n",
    "    def predict(self, X):\n",
    "        predictions = np.column_stack([\n",
    "            stacked_model.predict(X) for stacked_model in self.algs\n",
    "        ])\n",
    "        return np.mean(predictions, axis=1) \n"
   ]
  },
  {
   "cell_type": "code",
   "execution_count": null,
   "metadata": {},
   "outputs": [],
   "source": [
    "stacked_model = StackedModel(algs = [\n",
    "    model_LR, \n",
    "    model_CB,\n",
    "    model_LGBM,\n",
    "    model_RF\n",
    "])"
   ]
  },
  {
   "cell_type": "code",
   "execution_count": null,
   "metadata": {},
   "outputs": [],
   "source": [
    "y_pred_stack = stacked_model.predict(X_val_PCA).astype(int)"
   ]
  },
  {
   "cell_type": "code",
   "execution_count": null,
   "metadata": {},
   "outputs": [],
   "source": [
    "accuracy, precision, recall, f1 = evaluate_model(y_val, y_pred_stack)\n",
    "print(\"Val Data metrics on stacked model\")\n",
    "print(f\"Accuracy: {accuracy:.4f}\")\n",
    "print(f\"Precision: {precision:.4f}\")\n",
    "print(f\"Recall: {recall:.4f}\")\n",
    "print(f\"F1 Score: {f1:.4f}\")"
   ]
  },
  {
   "cell_type": "code",
   "execution_count": null,
   "metadata": {},
   "outputs": [],
   "source": []
  },
  {
   "cell_type": "markdown",
   "metadata": {},
   "source": [
    "# Test set"
   ]
  },
  {
   "cell_type": "code",
   "execution_count": null,
   "metadata": {},
   "outputs": [],
   "source": [
    "def getTestResults(test_data):\n",
    "\n",
    "    y_test_pred = stacked_model.predict(test_data) \n",
    "    y_test_pred = [round(y) for y in y_test_pred]   \n",
    "    return y_test_pred"
   ]
  },
  {
   "cell_type": "code",
   "execution_count": null,
   "metadata": {},
   "outputs": [],
   "source": [
    "test_df= pd.read_csv('/Users/jerryreddy/Downloads/Input Data/test.csv')"
   ]
  },
  {
   "cell_type": "code",
   "execution_count": null,
   "metadata": {},
   "outputs": [],
   "source": [
    "test_df.shape"
   ]
  },
  {
   "cell_type": "code",
   "execution_count": null,
   "metadata": {},
   "outputs": [],
   "source": [
    "X_train.columns"
   ]
  },
  {
   "cell_type": "code",
   "execution_count": null,
   "metadata": {},
   "outputs": [],
   "source": [
    "# removing the feature that were not present in X_train\n",
    "test_df1 = test_df[X_train.columns]\n"
   ]
  },
  {
   "cell_type": "code",
   "execution_count": null,
   "metadata": {},
   "outputs": [],
   "source": [
    "test_df1.shape"
   ]
  },
  {
   "cell_type": "code",
   "execution_count": null,
   "metadata": {},
   "outputs": [],
   "source": [
    "#Fetching the IDs from the test data\n",
    "test_ID = test_df['ID']"
   ]
  },
  {
   "cell_type": "code",
   "execution_count": null,
   "metadata": {},
   "outputs": [],
   "source": [
    "test_df1.columns"
   ]
  },
  {
   "cell_type": "code",
   "execution_count": null,
   "metadata": {},
   "outputs": [],
   "source": [
    "# Filling missing values in test_df1 with mean\n",
    "test_df1.fillna(test_df1.mean(), inplace=True)"
   ]
  },
  {
   "cell_type": "code",
   "execution_count": null,
   "metadata": {},
   "outputs": [],
   "source": [
    "test_df1.columns"
   ]
  },
  {
   "cell_type": "code",
   "execution_count": null,
   "metadata": {},
   "outputs": [],
   "source": [
    "# no null values present in test\n",
    "test_df1.isnull().sum()"
   ]
  },
  {
   "cell_type": "code",
   "execution_count": null,
   "metadata": {},
   "outputs": [],
   "source": [
    "\n",
    "X_test = test_df1 \n"
   ]
  },
  {
   "cell_type": "code",
   "execution_count": null,
   "metadata": {},
   "outputs": [],
   "source": [
    "X_test.shape"
   ]
  },
  {
   "cell_type": "code",
   "execution_count": null,
   "metadata": {},
   "outputs": [],
   "source": [
    "X_test_scaled = scaler.transform(X_test)  # Standardize using the same scaler\n",
    "X_test_PCA = pca.transform(X_test_scaled)  # Apply PCA transformation"
   ]
  },
  {
   "cell_type": "code",
   "execution_count": null,
   "metadata": {},
   "outputs": [],
   "source": [
    "X_test_PCA.shape"
   ]
  },
  {
   "cell_type": "code",
   "execution_count": null,
   "metadata": {},
   "outputs": [],
   "source": [
    "# Pass final test df after cleaning and processing to getTestResults to get the predictions for test set\n",
    "y_test_pred = getTestResults(X_test_PCA)"
   ]
  },
  {
   "cell_type": "code",
   "execution_count": null,
   "metadata": {},
   "outputs": [],
   "source": [
    "#create df for submission csv\n",
    "sub_df = pd.DataFrame({'ID': test_ID, 'Label': y_test_pred})"
   ]
  },
  {
   "cell_type": "code",
   "execution_count": null,
   "metadata": {},
   "outputs": [],
   "source": [
    "sub_df.head()"
   ]
  },
  {
   "cell_type": "code",
   "execution_count": null,
   "metadata": {},
   "outputs": [],
   "source": [
    "sub_df.to_csv('submission.csv', index=False)\n"
   ]
  },
  {
   "cell_type": "code",
   "execution_count": null,
   "metadata": {},
   "outputs": [],
   "source": []
  }
 ],
 "metadata": {
  "kernelspec": {
   "display_name": "Python 3 (ipykernel)",
   "language": "python",
   "name": "python3"
  },
  "language_info": {
   "codemirror_mode": {
    "name": "ipython",
    "version": 3
   },
   "file_extension": ".py",
   "mimetype": "text/x-python",
   "name": "python",
   "nbconvert_exporter": "python",
   "pygments_lexer": "ipython3",
   "version": "3.10.9"
  }
 },
 "nbformat": 4,
 "nbformat_minor": 4
}
